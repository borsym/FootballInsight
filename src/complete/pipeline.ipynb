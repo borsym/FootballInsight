{
 "cells": [
  {
   "attachments": {},
   "cell_type": "markdown",
   "metadata": {},
   "source": [
    "## Download YOLOv8:"
   ]
  },
  {
   "cell_type": "code",
   "execution_count": null,
   "metadata": {},
   "outputs": [],
   "source": [
    "!git clone -b final https://github.com/borsym/FootballInsight.git\n",
    "!cp -r FootballInsight/src/complete/ /content/\n",
    "!rm -rf FootballInsight\n",
    "!mv /content/complete/* /content/"
   ]
  },
  {
   "cell_type": "code",
   "execution_count": null,
   "metadata": {},
   "outputs": [],
   "source": [
    "!git clone --recurse-submodules https://github.com/mikel-brostrom/yolov8_tracking.git\n",
    "!mkdir /content/yolov8\n",
    "!cp -r /content/yolov8_tracking/yolov8/* /content/yolov8\n",
    "!rm -rf /content/yolov8_tracking/"
   ]
  },
  {
   "attachments": {},
   "cell_type": "markdown",
   "metadata": {},
   "source": [
    "## Download Demo Video:"
   ]
  },
  {
   "cell_type": "code",
   "execution_count": null,
   "metadata": {},
   "outputs": [],
   "source": [
    "## 10 sec video\n",
    "!gdown https://drive.google.com/uc?id=1t0EctgtEbiW5WEv6gZkTMw2TjQlDjkry"
   ]
  },
  {
   "attachments": {},
   "cell_type": "markdown",
   "metadata": {},
   "source": [
    "# Download SAM"
   ]
  },
  {
   "cell_type": "code",
   "execution_count": null,
   "metadata": {},
   "outputs": [],
   "source": [
    "!pip install git+https://github.com/facebookresearch/segment-anything.git"
   ]
  },
  {
   "attachments": {},
   "cell_type": "markdown",
   "metadata": {},
   "source": [
    "# Download XMem"
   ]
  },
  {
   "cell_type": "code",
   "execution_count": null,
   "metadata": {},
   "outputs": [],
   "source": [
    "!git clone https://github.com/hkchengrex/XMem.git"
   ]
  },
  {
   "attachments": {},
   "cell_type": "markdown",
   "metadata": {},
   "source": [
    "## Download Requirements:"
   ]
  },
  {
   "cell_type": "code",
   "execution_count": null,
   "metadata": {},
   "outputs": [],
   "source": [
    "!pip install -qr requirements.txt\n",
    "!pip install thop\n",
    "!pip install sentry_sdk\n",
    "!pip install imageio[ffmpeg]\n",
    "!pip install imageio[pyav]\n",
    "\n",
    "%cd XMem\n",
    "!pip install opencv-python\n",
    "!pip install -U numpy\n",
    "!pip install -r requirements.txt\n",
    "%cd .."
   ]
  },
  {
   "attachments": {},
   "cell_type": "markdown",
   "metadata": {},
   "source": [
    "## Download Model Files:"
   ]
  },
  {
   "cell_type": "code",
   "execution_count": null,
   "metadata": {},
   "outputs": [],
   "source": [
    "## Pre-Trained YOLOv8x.pt model for object detection.\n",
    "!gdown https://drive.google.com/uc?id=1CJjmDetBADOd6DUIPgSgZUghqEGF3EcS \n",
    "## YOLOv8x-pose-p6.pt model for pose estimation.\n",
    "!gdown https://drive.google.com/uc?id=1AlZ61lNy_C9-cdU_9E7YQEaf_v82yh3N \n",
    "## XMEM model.\n",
    "!gdown https://drive.google.com/uc?id=1eLa0LVUDllSBKVAT-6kAgIRFdlUlFc-K\n",
    "## SAM model.\n",
    "!gdown https://drive.google.com/uc?id=1Bl6YYzKA1KJnJnMtvtF7eKnSMhU46TQJ\n",
    "## OSNET model.\n",
    "!gdown https://drive.google.com/uc?id=1EZLd0x9_ldqDpPFgVGtxRExa9SnxJyXx"
   ]
  },
  {
   "attachments": {},
   "cell_type": "markdown",
   "metadata": {},
   "source": [
    "## Run Inference:"
   ]
  },
  {
   "cell_type": "code",
   "execution_count": 14,
   "metadata": {},
   "outputs": [
    {
     "name": "stderr",
     "output_type": "stream",
     "text": [
      "c:\\Users\\tktm_\\anaconda3\\envs\\FI\\lib\\site-packages\\numpy\\_distributor_init.py:30: UserWarning: loaded more than 1 DLL from .libs:\n",
      "c:\\Users\\tktm_\\anaconda3\\envs\\FI\\lib\\site-packages\\numpy\\.libs\\libopenblas.FB5AE2TYXYH2IJRDKGDGQ3XBKLKTF43H.gfortran-win_amd64.dll\n",
      "c:\\Users\\tktm_\\anaconda3\\envs\\FI\\lib\\site-packages\\numpy\\.libs\\libopenblas64__v0.3.21-gcc_10_3_0.dll\n",
      "  warnings.warn(\"loaded more than 1 DLL from .libs:\"\n",
      "Traceback (most recent call last):\n",
      "  File \"e:\\University\\Semester 2\\4_Advanced Deep Network Developments\\Practice\\FootballInsight\\src\\complete\\track.py\", line 32, in <module>\n",
      "    from yolov8.ultralytics.nn.autobackend import AutoBackend\n",
      "  File \"e:\\University\\Semester 2\\4_Advanced Deep Network Developments\\Practice\\FootballInsight\\src\\complete\\yolov8\\ultralytics\\nn\\autobackend.py\", line 18, in <module>\n",
      "    from ultralytics.yolo.utils import LINUX, LOGGER, ROOT, yaml_load\n",
      "ImportError: cannot import name 'LINUX' from 'ultralytics.yolo.utils' (c:\\Users\\tktm_\\anaconda3\\envs\\FI\\lib\\site-packages\\ultralytics\\yolo\\utils\\__init__.py)\n",
      "Sentry is attempting to send 2 pending error messages\n",
      "Waiting up to 2 seconds\n",
      "Press Ctrl-Break to quit\n"
     ]
    }
   ],
   "source": [
    "%cd /content/\n",
    "!python track.py --yolo-weights yolov8x_custom.pt --reid-weights osnet_x0_25_msmt17.pt --source quality.mp4 --save-vid --imgsz 1920 --conf 0.2 --classes 0 1 2 3"
   ]
  },
  {
   "attachments": {},
   "cell_type": "markdown",
   "metadata": {},
   "source": [
    "## Display Video:"
   ]
  },
  {
   "cell_type": "code",
   "execution_count": null,
   "metadata": {},
   "outputs": [],
   "source": [
    "import imageio\n",
    "import matplotlib.pyplot as plt\n",
    "import matplotlib.animation as animation\n",
    "from IPython.display import HTML\n",
    "\n",
    "def display_video(video):\n",
    "    fig = plt.figure(figsize=(8,8))\n",
    "\n",
    "    mov = []\n",
    "    for i in range(len(video)): \n",
    "        img = plt.imshow(video[i], animated=True)\n",
    "        plt.axis('off')\n",
    "        mov.append([img])\n",
    "\n",
    "    anime = animation.ArtistAnimation(fig, mov, interval=50, repeat_delay=1000)\n",
    "\n",
    "    plt.close()\n",
    "    return anime"
   ]
  },
  {
   "cell_type": "code",
   "execution_count": null,
   "metadata": {},
   "outputs": [],
   "source": [
    "video = imageio.mimread(f'./runs/track/exp/quality.mp4', memtest=False)\n",
    "HTML(display_video(video).to_html5_video())"
   ]
  }
 ],
 "metadata": {
  "kernelspec": {
   "display_name": "FI",
   "language": "python",
   "name": "fi"
  },
  "language_info": {
   "codemirror_mode": {
    "name": "ipython",
    "version": 3
   },
   "file_extension": ".py",
   "mimetype": "text/x-python",
   "name": "python",
   "nbconvert_exporter": "python",
   "pygments_lexer": "ipython3",
   "version": "3.9.16"
  },
  "orig_nbformat": 4
 },
 "nbformat": 4,
 "nbformat_minor": 2
}
