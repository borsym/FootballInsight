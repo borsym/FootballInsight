{
 "cells": [
  {
   "cell_type": "code",
   "execution_count": 1,
   "metadata": {},
   "outputs": [
    {
     "name": "stdout",
     "output_type": "stream",
     "text": [
      "Wed Apr  5 22:03:56 2023       \n",
      "+---------------------------------------------------------------------------------------+\n",
      "| NVIDIA-SMI 531.41                 Driver Version: 531.41       CUDA Version: 12.1     |\n",
      "|-----------------------------------------+----------------------+----------------------+\n",
      "| GPU  Name                      TCC/WDDM | Bus-Id        Disp.A | Volatile Uncorr. ECC |\n",
      "| Fan  Temp  Perf            Pwr:Usage/Cap|         Memory-Usage | GPU-Util  Compute M. |\n",
      "|                                         |                      |               MIG M. |\n",
      "|=========================================+======================+======================|\n",
      "|   0  NVIDIA GeForce RTX 3080       WDDM | 00000000:01:00.0  On |                  N/A |\n",
      "|  0%   50C    P0               93W / 370W|   1352MiB / 10240MiB |      2%      Default |\n",
      "|                                         |                      |                  N/A |\n",
      "+-----------------------------------------+----------------------+----------------------+\n",
      "                                                                                         \n",
      "+---------------------------------------------------------------------------------------+\n",
      "| Processes:                                                                            |\n",
      "|  GPU   GI   CI        PID   Type   Process name                            GPU Memory |\n",
      "|        ID   ID                                                             Usage      |\n",
      "|=======================================================================================|\n",
      "|    0   N/A  N/A      7408    C+G   ...5n1h2txyewy\\ShellExperienceHost.exe    N/A      |\n",
      "|    0   N/A  N/A     16076    C+G   ...2txyewy\\StartMenuExperienceHost.exe    N/A      |\n",
      "|    0   N/A  N/A     18744    C+G   C:\\Windows\\System32\\dwm.exe               N/A      |\n",
      "|    0   N/A  N/A     20132    C+G   ...CBS_cw5n1h2txyewy\\TextInputHost.exe    N/A      |\n",
      "|    0   N/A  N/A     25872    C+G   C:\\Windows\\explorer.exe                   N/A      |\n",
      "|    0   N/A  N/A     27368    C+G   ...Programs\\Microsoft VS Code\\Code.exe    N/A      |\n",
      "|    0   N/A  N/A     32100    C+G   ...oogle\\Chrome\\Application\\chrome.exe    N/A      |\n",
      "|    0   N/A  N/A     33168    C+G   ...t.LockApp_cw5n1h2txyewy\\LockApp.exe    N/A      |\n",
      "|    0   N/A  N/A     33904    C+G   ...siveControlPanel\\SystemSettings.exe    N/A      |\n",
      "|    0   N/A  N/A     34780    C+G   ...nt.CBS_cw5n1h2txyewy\\SearchHost.exe    N/A      |\n",
      "+---------------------------------------------------------------------------------------+\n"
     ]
    }
   ],
   "source": [
    "!nvidia-smi"
   ]
  },
  {
   "cell_type": "code",
   "execution_count": 2,
   "metadata": {},
   "outputs": [
    {
     "name": "stdout",
     "output_type": "stream",
     "text": [
      "E:\\University\\Semester 2\\4_Advanced Deep Network Developments\\Practice\\FootballInsight\n"
     ]
    }
   ],
   "source": [
    "import os\n",
    "HOME = os.getcwd()\n",
    "print(HOME)"
   ]
  },
  {
   "cell_type": "code",
   "execution_count": 11,
   "metadata": {},
   "outputs": [
    {
     "name": "stdout",
     "output_type": "stream",
     "text": [
      "Collecting ultralytics==8.0.20\n",
      "  Using cached ultralytics-8.0.20-py3-none-any.whl (261 kB)\n",
      "Requirement already satisfied: opencv-python>=4.6.0 in c:\\users\\tktm_\\anaconda3\\lib\\site-packages (from ultralytics==8.0.20) (4.7.0.72)\n",
      "Requirement already satisfied: requests>=2.23.0 in c:\\users\\tktm_\\anaconda3\\lib\\site-packages (from ultralytics==8.0.20) (2.28.1)\n",
      "Requirement already satisfied: PyYAML>=5.3.1 in c:\\users\\tktm_\\anaconda3\\lib\\site-packages (from ultralytics==8.0.20) (6.0)\n",
      "Requirement already satisfied: scipy>=1.4.1 in c:\\users\\tktm_\\anaconda3\\lib\\site-packages (from ultralytics==8.0.20) (1.9.1)\n",
      "Requirement already satisfied: matplotlib>=3.2.2 in c:\\users\\tktm_\\anaconda3\\lib\\site-packages (from ultralytics==8.0.20) (3.5.2)\n",
      "Requirement already satisfied: psutil in c:\\users\\tktm_\\anaconda3\\lib\\site-packages (from ultralytics==8.0.20) (5.9.0)\n",
      "Requirement already satisfied: tqdm>=4.64.0 in c:\\users\\tktm_\\anaconda3\\lib\\site-packages (from ultralytics==8.0.20) (4.64.1)\n",
      "Collecting sentry-sdk\n",
      "  Downloading sentry_sdk-1.19.1-py2.py3-none-any.whl (199 kB)\n",
      "     -------------------------------------- 199.2/199.2 kB 3.0 MB/s eta 0:00:00\n",
      "Requirement already satisfied: pandas>=1.1.4 in c:\\users\\tktm_\\anaconda3\\lib\\site-packages (from ultralytics==8.0.20) (1.4.4)\n",
      "Collecting torchvision>=0.8.1\n",
      "  Downloading torchvision-0.15.1-cp39-cp39-win_amd64.whl (1.2 MB)\n",
      "     ---------------------------------------- 1.2/1.2 MB 15.2 MB/s eta 0:00:00\n",
      "Collecting thop>=0.1.1\n",
      "  Using cached thop-0.1.1.post2209072238-py3-none-any.whl (15 kB)\n",
      "Requirement already satisfied: ipython in c:\\users\\tktm_\\anaconda3\\lib\\site-packages (from ultralytics==8.0.20) (7.31.1)\n",
      "Collecting tensorboard>=2.4.1\n",
      "  Downloading tensorboard-2.12.1-py3-none-any.whl (5.6 MB)\n",
      "     ---------------------------------------- 5.6/5.6 MB 59.9 MB/s eta 0:00:00\n",
      "Collecting torch>=1.7.0\n",
      "  Downloading torch-2.0.0-cp39-cp39-win_amd64.whl (172.3 MB)\n",
      "     ------------------------------------- 172.3/172.3 MB 23.3 MB/s eta 0:00:00\n",
      "Requirement already satisfied: numpy>=1.18.5 in c:\\users\\tktm_\\anaconda3\\lib\\site-packages (from ultralytics==8.0.20) (1.21.5)\n",
      "Requirement already satisfied: seaborn>=0.11.0 in c:\\users\\tktm_\\anaconda3\\lib\\site-packages (from ultralytics==8.0.20) (0.11.2)\n",
      "Requirement already satisfied: Pillow>=7.1.2 in c:\\users\\tktm_\\anaconda3\\lib\\site-packages (from ultralytics==8.0.20) (9.2.0)\n",
      "Requirement already satisfied: pyparsing>=2.2.1 in c:\\users\\tktm_\\anaconda3\\lib\\site-packages (from matplotlib>=3.2.2->ultralytics==8.0.20) (3.0.9)\n",
      "Requirement already satisfied: python-dateutil>=2.7 in c:\\users\\tktm_\\anaconda3\\lib\\site-packages (from matplotlib>=3.2.2->ultralytics==8.0.20) (2.8.2)\n",
      "Requirement already satisfied: kiwisolver>=1.0.1 in c:\\users\\tktm_\\anaconda3\\lib\\site-packages (from matplotlib>=3.2.2->ultralytics==8.0.20) (1.4.2)\n",
      "Requirement already satisfied: cycler>=0.10 in c:\\users\\tktm_\\anaconda3\\lib\\site-packages (from matplotlib>=3.2.2->ultralytics==8.0.20) (0.11.0)\n",
      "Requirement already satisfied: packaging>=20.0 in c:\\users\\tktm_\\anaconda3\\lib\\site-packages (from matplotlib>=3.2.2->ultralytics==8.0.20) (21.3)\n",
      "Requirement already satisfied: fonttools>=4.22.0 in c:\\users\\tktm_\\anaconda3\\lib\\site-packages (from matplotlib>=3.2.2->ultralytics==8.0.20) (4.25.0)\n",
      "Requirement already satisfied: pytz>=2020.1 in c:\\users\\tktm_\\anaconda3\\lib\\site-packages (from pandas>=1.1.4->ultralytics==8.0.20) (2022.1)\n",
      "Requirement already satisfied: charset-normalizer<3,>=2 in c:\\users\\tktm_\\anaconda3\\lib\\site-packages (from requests>=2.23.0->ultralytics==8.0.20) (2.0.4)\n",
      "Requirement already satisfied: idna<4,>=2.5 in c:\\users\\tktm_\\anaconda3\\lib\\site-packages (from requests>=2.23.0->ultralytics==8.0.20) (3.3)\n",
      "Requirement already satisfied: certifi>=2017.4.17 in c:\\users\\tktm_\\anaconda3\\lib\\site-packages (from requests>=2.23.0->ultralytics==8.0.20) (2022.9.14)\n",
      "Requirement already satisfied: urllib3<1.27,>=1.21.1 in c:\\users\\tktm_\\anaconda3\\lib\\site-packages (from requests>=2.23.0->ultralytics==8.0.20) (1.26.11)\n",
      "Collecting google-auth-oauthlib<1.1,>=0.5\n",
      "  Downloading google_auth_oauthlib-1.0.0-py2.py3-none-any.whl (18 kB)\n",
      "Collecting google-auth<3,>=1.6.3\n",
      "  Downloading google_auth-2.17.2-py2.py3-none-any.whl (178 kB)\n",
      "     ------------------------------------- 178.2/178.2 kB 10.5 MB/s eta 0:00:00\n",
      "Collecting tensorboard-plugin-wit>=1.6.0\n",
      "  Using cached tensorboard_plugin_wit-1.8.1-py3-none-any.whl (781 kB)\n",
      "Requirement already satisfied: setuptools>=41.0.0 in c:\\users\\tktm_\\anaconda3\\lib\\site-packages (from tensorboard>=2.4.1->ultralytics==8.0.20) (63.4.1)\n",
      "Requirement already satisfied: werkzeug>=1.0.1 in c:\\users\\tktm_\\anaconda3\\lib\\site-packages (from tensorboard>=2.4.1->ultralytics==8.0.20) (2.0.3)\n",
      "Collecting grpcio>=1.48.2\n",
      "  Downloading grpcio-1.53.0-cp39-cp39-win_amd64.whl (4.0 MB)\n",
      "     ---------------------------------------- 4.0/4.0 MB 83.9 MB/s eta 0:00:00\n",
      "Requirement already satisfied: markdown>=2.6.8 in c:\\users\\tktm_\\anaconda3\\lib\\site-packages (from tensorboard>=2.4.1->ultralytics==8.0.20) (3.3.4)\n",
      "Collecting absl-py>=0.4\n",
      "  Using cached absl_py-1.4.0-py3-none-any.whl (126 kB)\n",
      "Collecting protobuf>=3.19.6\n",
      "  Using cached protobuf-4.22.1-cp39-cp39-win_amd64.whl (420 kB)\n",
      "Requirement already satisfied: wheel>=0.26 in c:\\users\\tktm_\\anaconda3\\lib\\site-packages (from tensorboard>=2.4.1->ultralytics==8.0.20) (0.37.1)\n",
      "Collecting tensorboard-data-server<0.8.0,>=0.7.0\n",
      "  Using cached tensorboard_data_server-0.7.0-py3-none-any.whl (2.4 kB)\n",
      "Requirement already satisfied: jinja2 in c:\\users\\tktm_\\anaconda3\\lib\\site-packages (from torch>=1.7.0->ultralytics==8.0.20) (2.11.3)\n",
      "Requirement already satisfied: filelock in c:\\users\\tktm_\\anaconda3\\lib\\site-packages (from torch>=1.7.0->ultralytics==8.0.20) (3.6.0)\n",
      "Requirement already satisfied: typing-extensions in c:\\users\\tktm_\\anaconda3\\lib\\site-packages (from torch>=1.7.0->ultralytics==8.0.20) (4.3.0)\n",
      "Requirement already satisfied: sympy in c:\\users\\tktm_\\anaconda3\\lib\\site-packages (from torch>=1.7.0->ultralytics==8.0.20) (1.10.1)\n",
      "Requirement already satisfied: networkx in c:\\users\\tktm_\\anaconda3\\lib\\site-packages (from torch>=1.7.0->ultralytics==8.0.20) (2.8.4)\n",
      "Requirement already satisfied: colorama in c:\\users\\tktm_\\anaconda3\\lib\\site-packages (from tqdm>=4.64.0->ultralytics==8.0.20) (0.4.5)\n",
      "Requirement already satisfied: prompt-toolkit!=3.0.0,!=3.0.1,<3.1.0,>=2.0.0 in c:\\users\\tktm_\\anaconda3\\lib\\site-packages (from ipython->ultralytics==8.0.20) (3.0.20)\n",
      "Requirement already satisfied: decorator in c:\\users\\tktm_\\anaconda3\\lib\\site-packages (from ipython->ultralytics==8.0.20) (5.1.1)\n",
      "Requirement already satisfied: pygments in c:\\users\\tktm_\\anaconda3\\lib\\site-packages (from ipython->ultralytics==8.0.20) (2.11.2)\n",
      "Requirement already satisfied: pickleshare in c:\\users\\tktm_\\anaconda3\\lib\\site-packages (from ipython->ultralytics==8.0.20) (0.7.5)\n",
      "Requirement already satisfied: jedi>=0.16 in c:\\users\\tktm_\\anaconda3\\lib\\site-packages (from ipython->ultralytics==8.0.20) (0.18.1)\n",
      "Requirement already satisfied: backcall in c:\\users\\tktm_\\anaconda3\\lib\\site-packages (from ipython->ultralytics==8.0.20) (0.2.0)\n",
      "Requirement already satisfied: traitlets>=4.2 in c:\\users\\tktm_\\anaconda3\\lib\\site-packages (from ipython->ultralytics==8.0.20) (5.1.1)\n",
      "Requirement already satisfied: matplotlib-inline in c:\\users\\tktm_\\anaconda3\\lib\\site-packages (from ipython->ultralytics==8.0.20) (0.1.6)\n",
      "Requirement already satisfied: six>=1.9.0 in c:\\users\\tktm_\\anaconda3\\lib\\site-packages (from google-auth<3,>=1.6.3->tensorboard>=2.4.1->ultralytics==8.0.20) (1.16.0)\n",
      "Collecting cachetools<6.0,>=2.0.0\n",
      "  Using cached cachetools-5.3.0-py3-none-any.whl (9.3 kB)\n",
      "Requirement already satisfied: pyasn1-modules>=0.2.1 in c:\\users\\tktm_\\anaconda3\\lib\\site-packages (from google-auth<3,>=1.6.3->tensorboard>=2.4.1->ultralytics==8.0.20) (0.2.8)\n",
      "Collecting rsa<5,>=3.1.4\n",
      "  Using cached rsa-4.9-py3-none-any.whl (34 kB)\n",
      "Collecting requests-oauthlib>=0.7.0\n",
      "  Using cached requests_oauthlib-1.3.1-py2.py3-none-any.whl (23 kB)\n",
      "Requirement already satisfied: parso<0.9.0,>=0.8.0 in c:\\users\\tktm_\\anaconda3\\lib\\site-packages (from jedi>=0.16->ipython->ultralytics==8.0.20) (0.8.3)\n",
      "Requirement already satisfied: wcwidth in c:\\users\\tktm_\\anaconda3\\lib\\site-packages (from prompt-toolkit!=3.0.0,!=3.0.1,<3.1.0,>=2.0.0->ipython->ultralytics==8.0.20) (0.2.5)\n",
      "Requirement already satisfied: MarkupSafe>=0.23 in c:\\users\\tktm_\\anaconda3\\lib\\site-packages (from jinja2->torch>=1.7.0->ultralytics==8.0.20) (2.0.1)\n",
      "Requirement already satisfied: mpmath>=0.19 in c:\\users\\tktm_\\anaconda3\\lib\\site-packages (from sympy->torch>=1.7.0->ultralytics==8.0.20) (1.2.1)\n",
      "Requirement already satisfied: pyasn1<0.5.0,>=0.4.6 in c:\\users\\tktm_\\anaconda3\\lib\\site-packages (from pyasn1-modules>=0.2.1->google-auth<3,>=1.6.3->tensorboard>=2.4.1->ultralytics==8.0.20) (0.4.8)\n",
      "Collecting oauthlib>=3.0.0\n",
      "  Using cached oauthlib-3.2.2-py3-none-any.whl (151 kB)\n",
      "Installing collected packages: tensorboard-plugin-wit, tensorboard-data-server, sentry-sdk, rsa, protobuf, oauthlib, grpcio, cachetools, absl-py, torch, requests-oauthlib, google-auth, torchvision, thop, google-auth-oauthlib, tensorboard, ultralytics\n",
      "Successfully installed absl-py-1.4.0 cachetools-5.3.0 google-auth-2.17.2 google-auth-oauthlib-1.0.0 grpcio-1.53.0 oauthlib-3.2.2 protobuf-4.22.1 requests-oauthlib-1.3.1 rsa-4.9 sentry-sdk-1.19.1 tensorboard-2.12.1 tensorboard-data-server-0.7.0 tensorboard-plugin-wit-1.8.1 thop-0.1.1.post2209072238 torch-2.0.0 torchvision-0.15.1 ultralytics-8.0.20\n"
     ]
    }
   ],
   "source": [
    "!pip install ultralytics==8.0.20"
   ]
  },
  {
   "cell_type": "code",
   "execution_count": 4,
   "metadata": {},
   "outputs": [
    {
     "name": "stderr",
     "output_type": "stream",
     "text": [
      "Ultralytics YOLOv8.0.20  Python-3.9.16 torch-2.0.0+cu118 CUDA:0 (NVIDIA GeForce RTX 3080, 10239MiB)\n",
      "Setup complete  (8 CPUs, 23.9 GB RAM, 11.0/473.0 GB disk)\n"
     ]
    }
   ],
   "source": [
    "from IPython import display\n",
    "display.clear_output()\n",
    "\n",
    "import ultralytics\n",
    "ultralytics.checks()"
   ]
  },
  {
   "cell_type": "code",
   "execution_count": 5,
   "metadata": {},
   "outputs": [],
   "source": [
    "from ultralytics import YOLO\n",
    "\n",
    "from IPython.display import display, Image"
   ]
  },
  {
   "cell_type": "markdown",
   "metadata": {},
   "source": [
    "## CLI"
   ]
  },
  {
   "cell_type": "code",
   "execution_count": 24,
   "metadata": {},
   "outputs": [
    {
     "name": "stdout",
     "output_type": "stream",
     "text": [
      "e:\\University\\Semester 2\\4_Advanced Deep Network Developments\\Practice\\FootballInsight\n"
     ]
    },
    {
     "name": "stderr",
     "output_type": "stream",
     "text": [
      "Ultralytics YOLOv8.0.20  Python-3.9.16 torch-2.0.0+cu118 CUDA:0 (NVIDIA GeForce RTX 3080, 10239MiB)\n",
      "YOLOv8n summary (fused): 168 layers, 3151904 parameters, 0 gradients, 8.7 GFLOPs\n",
      "image 1/1 E:\\University\\Semester 2\\4_Advanced Deep Network Developments\\Practice\\FootballInsight\\data\\test\\images\\40cd38_7_6_png.rf.68ef7fcd663cdf0f5b96bacdbcd94e07.jpg: 384x640 27 persons, 146.1ms\n",
      "Speed: 2.0ms pre-process, 146.1ms inference, 92.3ms postprocess per image at shape (1, 3, 640, 640)\n",
      "Results saved to \u001b[1mruns\\detect\\predict5\u001b[0m\n"
     ]
    }
   ],
   "source": [
    "%cd {HOME}\n",
    "!yolo task=detect mode=predict model=/runs/detect/train13/weights/best.pt conf=0.1 source='datasets/test/images/40cd38_7_6_png.rf.68ef7fcd663cdf0f5b96bacdbcd94e07.jpg' save=True"
   ]
  },
  {
   "cell_type": "code",
   "execution_count": 61,
   "metadata": {},
   "outputs": [
    {
     "name": "stderr",
     "output_type": "stream",
     "text": [
      "Ultralytics YOLOv8.0.20  Python-3.9.16 torch-2.0.0+cu118 CUDA:0 (NVIDIA GeForce RTX 3080, 10239MiB)\n",
      "Model summary (fused): 218 layers, 25842076 parameters, 0 gradients, 78.7 GFLOPs\n",
      "Results saved to \u001b[1mruns\\detect\\predict8\u001b[0m\n"
     ]
    }
   ],
   "source": [
    "model = YOLO(f'{HOME}/runs/detect/train21/weights/best.pt')\n",
    "results = model.predict(source='datasets/test/images/40cd38_7_6_png.rf.68ef7fcd663cdf0f5b96bacdbcd94e07.jpg', conf=0.1, save=True)"
   ]
  },
  {
   "cell_type": "code",
   "execution_count": 50,
   "metadata": {},
   "outputs": [
    {
     "data": {
      "text/plain": [
       "tensor([0.85620, 0.84233, 0.81439, 0.80590, 0.79637, 0.79158, 0.79047, 0.78854, 0.78731, 0.76756, 0.75269, 0.74899, 0.74083, 0.70855, 0.66825, 0.66073, 0.65746, 0.64387, 0.58494, 0.47482, 0.45210, 0.40343, 0.31803, 0.21328, 0.16185, 0.14546, 0.12534, 0.10623], device='cuda:0')"
      ]
     },
     "execution_count": 50,
     "metadata": {},
     "output_type": "execute_result"
    }
   ],
   "source": [
    "results[0].boxes.conf"
   ]
  },
  {
   "cell_type": "markdown",
   "metadata": {},
   "source": [
    "## CLI TRAINING"
   ]
  },
  {
   "cell_type": "code",
   "execution_count": 6,
   "metadata": {},
   "outputs": [],
   "source": [
    "import os\n",
    "os.environ[\"KMP_DUPLICATE_LIB_OK\"]=\"TRUE\""
   ]
  },
  {
   "cell_type": "code",
   "execution_count": null,
   "metadata": {},
   "outputs": [
    {
     "name": "stdout",
     "output_type": "stream",
     "text": [
      "E:\\University\\Semester 2\\4_Advanced Deep Network Developments\\Practice\\FootballInsight\n"
     ]
    }
   ],
   "source": [
    "%cd {HOME}\n",
    "\n",
    "!yolo task=detect mode=train model=yolov8m.pt data='datasets/data.yaml' epochs=25 imgsz=1920 batch=1 plots=True"
   ]
  },
  {
   "cell_type": "code",
   "execution_count": 12,
   "metadata": {},
   "outputs": [
    {
     "name": "stderr",
     "output_type": "stream",
     "text": [
      "Printing '\u001b[1m\u001b[30mC:\\Users\\tktm_\\anaconda3\\Lib\\site-packages\\ultralytics\\yolo\\cfg\\default.yaml\u001b[0m'\n",
      "\n",
      "agnostic_nms: false\n",
      "augment: false\n",
      "batch: 16\n",
      "box: 7.5\n",
      "boxes: true\n",
      "cache: false\n",
      "cfg: null\n",
      "classes: null\n",
      "close_mosaic: 10\n",
      "cls: 0.5\n",
      "conf: null\n",
      "copy_paste: 0.0\n",
      "cos_lr: false\n",
      "data: null\n",
      "degrees: 0.0\n",
      "deterministic: true\n",
      "device: null\n",
      "dfl: 1.5\n",
      "dnn: false\n",
      "dropout: 0.0\n",
      "dynamic: false\n",
      "epochs: 100\n",
      "exist_ok: false\n",
      "fl_gamma: 0.0\n",
      "fliplr: 0.5\n",
      "flipud: 0.0\n",
      "format: torchscript\n",
      "half: false\n",
      "hide_conf: false\n",
      "hide_labels: false\n",
      "hsv_h: 0.015\n",
      "hsv_s: 0.7\n",
      "hsv_v: 0.4\n",
      "image_weights: false\n",
      "imgsz: 640\n",
      "int8: false\n",
      "iou: 0.7\n",
      "keras: false\n",
      "label_smoothing: 0.0\n",
      "line_thickness: 3\n",
      "lr0: 0.01\n",
      "lrf: 0.01\n",
      "mask_ratio: 4\n",
      "max_det: 300\n",
      "mixup: 0.0\n",
      "mode: train\n",
      "model: null\n",
      "momentum: 0.937\n",
      "mosaic: 1.0\n",
      "name: null\n",
      "nbs: 64\n",
      "nms: false\n",
      "opset: null\n",
      "optimize: false\n",
      "optimizer: SGD\n",
      "overlap_mask: true\n",
      "patience: 50\n",
      "perspective: 0.0\n",
      "plots: true\n",
      "pretrained: false\n",
      "project: null\n",
      "rect: false\n",
      "resume: false\n",
      "retina_masks: false\n",
      "save: true\n",
      "save_conf: false\n",
      "save_crop: false\n",
      "save_hybrid: false\n",
      "save_json: false\n",
      "save_txt: false\n",
      "scale: 0.5\n",
      "seed: 0\n",
      "shear: 0.0\n",
      "show: false\n",
      "simplify: false\n",
      "single_cls: false\n",
      "source: null\n",
      "task: detect\n",
      "translate: 0.1\n",
      "v5loader: false\n",
      "val: true\n",
      "verbose: true\n",
      "vid_stride: 1\n",
      "visualize: false\n",
      "warmup_bias_lr: 0.1\n",
      "warmup_epochs: 3.0\n",
      "warmup_momentum: 0.8\n",
      "weight_decay: 0.0005\n",
      "workers: 8\n",
      "workspace: 4\n",
      "\n"
     ]
    }
   ],
   "source": [
    "!yolo cfg"
   ]
  },
  {
   "cell_type": "code",
   "execution_count": 13,
   "metadata": {},
   "outputs": [
    {
     "name": "stdout",
     "output_type": "stream",
     "text": [
      "datasets\n",
      "runs\n",
      "yolov8.ipynb\n",
      "yolov8m.pt\n"
     ]
    }
   ],
   "source": [
    "!ls"
   ]
  },
  {
   "cell_type": "code",
   "execution_count": null,
   "metadata": {},
   "outputs": [],
   "source": []
  }
 ],
 "metadata": {
  "kernelspec": {
   "display_name": "FI",
   "language": "python",
   "name": "fi"
  },
  "language_info": {
   "codemirror_mode": {
    "name": "ipython",
    "version": 3
   },
   "file_extension": ".py",
   "mimetype": "text/x-python",
   "name": "python",
   "nbconvert_exporter": "python",
   "pygments_lexer": "ipython3",
   "version": "3.9.16"
  }
 },
 "nbformat": 4,
 "nbformat_minor": 2
}
